{
 "cells": [
  {
   "cell_type": "code",
   "execution_count": 1,
   "metadata": {
    "collapsed": true
   },
   "outputs": [],
   "source": [
    "import os\n",
    "import re\n",
    "\n",
    "from collections import Counter\n",
    "import numpy as np\n",
    "import pandas as pd\n",
    "pd.set_option('display.max_rows', 10)\n",
    "pd.set_option('display.notebook_repr_html', True)\n",
    "pd.set_option('display.max_columns', 15)\n",
    "\n",
    "from sklearn import linear_model\n",
    "\n",
    "import matplotlib.pyplot as plt\n",
    "%matplotlib inline\n",
    "plt.style.use('ggplot')"
   ]
  },
  {
   "cell_type": "code",
   "execution_count": 2,
   "metadata": {
    "collapsed": true
   },
   "outputs": [],
   "source": [
    "#Problem: Using work emails from December 2016, determine whether or not a future email requires a response."
   ]
  },
  {
   "cell_type": "code",
   "execution_count": 3,
   "metadata": {
    "collapsed": true
   },
   "outputs": [],
   "source": [
    "#I am planning to convert various data into binary True/Flase variables and then use Linear Regression with one-hot encoding"
   ]
  },
  {
   "cell_type": "code",
   "execution_count": 4,
   "metadata": {
    "collapsed": true
   },
   "outputs": [],
   "source": [
    "#My data consists of email text data, as well as various metadata. NAtural variables include: Subject (text), Body (text), \n",
    "#From, (text), To(text), CC (text), Importance, and Reply (True/False). I will also create Y/N metrics that I believe will help determine\n",
    "#whether or not a response is required. Those metrics include Name_To_Exclusive (email is only sent to me), Name_In_Body,\n",
    "# CC_Bool (Name in CC field), as well as a word count labeled Body_Length."
   ]
  },
  {
   "cell_type": "code",
   "execution_count": 5,
   "metadata": {
    "collapsed": true
   },
   "outputs": [],
   "source": [
    "#Using OLS Regression, I will look for results where my t score is greater than 2, and my 95% confidence interval\n",
    "#does not include 0"
   ]
  },
  {
   "cell_type": "code",
   "execution_count": 6,
   "metadata": {
    "collapsed": false
   },
   "outputs": [],
   "source": [
    " df = pd.read_csv('TestData2.csv')"
   ]
  },
  {
   "cell_type": "code",
   "execution_count": 7,
   "metadata": {
    "collapsed": false
   },
   "outputs": [
    {
     "data": {
      "text/html": [
       "<div>\n",
       "<table border=\"1\" class=\"dataframe\">\n",
       "  <thead>\n",
       "    <tr style=\"text-align: right;\">\n",
       "      <th></th>\n",
       "      <th>Subject</th>\n",
       "      <th>Body</th>\n",
       "      <th>From</th>\n",
       "      <th>To</th>\n",
       "      <th>CC</th>\n",
       "      <th>Importance</th>\n",
       "      <th>Reply</th>\n",
       "    </tr>\n",
       "  </thead>\n",
       "  <tbody>\n",
       "    <tr>\n",
       "      <th>0</th>\n",
       "      <td>,Singh</td>\n",
       "      <td>Rajiv Ranjan\"</td>\n",
       "      <td>Trivedi, Lokesh</td>\n",
       "      <td>Londeree, Michelle;Iman, Chad;Konduru, Rakesh;...</td>\n",
       "      <td>NaN</td>\n",
       "      <td>NaN</td>\n",
       "      <td>N</td>\n",
       "    </tr>\n",
       "    <tr>\n",
       "      <th>1</th>\n",
       "      <td>RE: Quick Reporting TB</td>\n",
       "      <td>I am in meetings until 6:00 eastern time � I c...</td>\n",
       "      <td>Stogner, Stacey</td>\n",
       "      <td>Iman, Chad</td>\n",
       "      <td>NaN</td>\n",
       "      <td>Normal</td>\n",
       "      <td>Y</td>\n",
       "    </tr>\n",
       "    <tr>\n",
       "      <th>2</th>\n",
       "      <td>RE: Levi's Active PCs by half.xlsx</td>\n",
       "      <td>Hi Chad,\\r\\n\\r\\nMy source is the BI report I h...</td>\n",
       "      <td>Oldham, James</td>\n",
       "      <td>Iman, Chad;Londeree, Michelle</td>\n",
       "      <td>NaN</td>\n",
       "      <td>Normal</td>\n",
       "      <td>N</td>\n",
       "    </tr>\n",
       "    <tr>\n",
       "      <th>3</th>\n",
       "      <td>FW: Merch Cancel Report- Rebuild</td>\n",
       "      <td>Hi Barbara.\\r\\n\\r\\n \\r\\n\\r\\nI currently proces...</td>\n",
       "      <td>Lindsey, Nicole</td>\n",
       "      <td>Kleinhans, Barbara</td>\n",
       "      <td>Iman, Chad</td>\n",
       "      <td>Normal</td>\n",
       "      <td>N</td>\n",
       "    </tr>\n",
       "    <tr>\n",
       "      <th>4</th>\n",
       "      <td>RE: Quick Reporting TB</td>\n",
       "      <td>Whenever Stacey is available, I can be availab...</td>\n",
       "      <td>Recinella, Sharmin</td>\n",
       "      <td>Stogner, Stacey;Iman, Chad</td>\n",
       "      <td>NaN</td>\n",
       "      <td>Normal</td>\n",
       "      <td>N</td>\n",
       "    </tr>\n",
       "    <tr>\n",
       "      <th>...</th>\n",
       "      <td>...</td>\n",
       "      <td>...</td>\n",
       "      <td>...</td>\n",
       "      <td>...</td>\n",
       "      <td>...</td>\n",
       "      <td>...</td>\n",
       "      <td>...</td>\n",
       "    </tr>\n",
       "    <tr>\n",
       "      <th>624</th>\n",
       "      <td>RE: LSA cubes under maintenance[Cubes accessible]</td>\n",
       "      <td>Hi All,\\r\\n\\r\\n \\r\\n\\r\\nMaintenance activity o...</td>\n",
       "      <td>Rawat, Garima</td>\n",
       "      <td>DL: Hyperion Planning</td>\n",
       "      <td>DL: Levi Hyperion Support</td>\n",
       "      <td>Normal</td>\n",
       "      <td>N</td>\n",
       "    </tr>\n",
       "    <tr>\n",
       "      <th>625</th>\n",
       "      <td>LSA cubes under maintenance[Cubes Inaccessible]</td>\n",
       "      <td>Hi All,\\r\\n\\r\\n \\r\\n\\r\\nLSA cubes will be unav...</td>\n",
       "      <td>Rawat, Garima</td>\n",
       "      <td>DL: Hyperion Planning</td>\n",
       "      <td>DL: Levi Hyperion Support</td>\n",
       "      <td>Normal</td>\n",
       "      <td>N</td>\n",
       "    </tr>\n",
       "    <tr>\n",
       "      <th>626</th>\n",
       "      <td>RE: LSA BI Super User Meeting</td>\n",
       "      <td>Hi Chad, I would love to attend this week�s BI...</td>\n",
       "      <td>Walsh, Sara</td>\n",
       "      <td>Raubitschek, Micki;Iman, Chad</td>\n",
       "      <td>NaN</td>\n",
       "      <td>Normal</td>\n",
       "      <td>Y</td>\n",
       "    </tr>\n",
       "    <tr>\n",
       "      <th>627</th>\n",
       "      <td>Current PDU Extract Request</td>\n",
       "      <td>MBX, Global Service Desk �\\r\\n\\r\\n \\r\\n\\r\\nPle...</td>\n",
       "      <td>Uyeda, Pauline</td>\n",
       "      <td>MBX, Global Service Desk;Iman, Chad</td>\n",
       "      <td>Londeree, Michelle;Distlistu, E2E_SAS_Applicat...</td>\n",
       "      <td>Normal</td>\n",
       "      <td>N</td>\n",
       "    </tr>\n",
       "    <tr>\n",
       "      <th>628</th>\n",
       "      <td>RE: Current PDU Extract Request</td>\n",
       "      <td>Hi Pauline,\\r\\n\\r\\n \\r\\n\\r\\nWe are working on ...</td>\n",
       "      <td>Parihi, Aswini Kumar</td>\n",
       "      <td>Uyeda, Pauline;MBX, Global Service Desk;Iman, ...</td>\n",
       "      <td>Londeree, Michelle;Distlistu, E2E_SAS_Applicat...</td>\n",
       "      <td>Normal</td>\n",
       "      <td>N</td>\n",
       "    </tr>\n",
       "  </tbody>\n",
       "</table>\n",
       "<p>629 rows × 7 columns</p>\n",
       "</div>"
      ],
      "text/plain": [
       "                                               Subject  \\\n",
       "0                                               ,Singh   \n",
       "1                               RE: Quick Reporting TB   \n",
       "2                   RE: Levi's Active PCs by half.xlsx   \n",
       "3                     FW: Merch Cancel Report- Rebuild   \n",
       "4                               RE: Quick Reporting TB   \n",
       "..                                                 ...   \n",
       "624  RE: LSA cubes under maintenance[Cubes accessible]   \n",
       "625    LSA cubes under maintenance[Cubes Inaccessible]   \n",
       "626                      RE: LSA BI Super User Meeting   \n",
       "627                        Current PDU Extract Request   \n",
       "628                    RE: Current PDU Extract Request   \n",
       "\n",
       "                                                  Body                  From  \\\n",
       "0                                        Rajiv Ranjan\"       Trivedi, Lokesh   \n",
       "1    I am in meetings until 6:00 eastern time � I c...       Stogner, Stacey   \n",
       "2    Hi Chad,\\r\\n\\r\\nMy source is the BI report I h...         Oldham, James   \n",
       "3    Hi Barbara.\\r\\n\\r\\n \\r\\n\\r\\nI currently proces...       Lindsey, Nicole   \n",
       "4    Whenever Stacey is available, I can be availab...    Recinella, Sharmin   \n",
       "..                                                 ...                   ...   \n",
       "624  Hi All,\\r\\n\\r\\n \\r\\n\\r\\nMaintenance activity o...         Rawat, Garima   \n",
       "625  Hi All,\\r\\n\\r\\n \\r\\n\\r\\nLSA cubes will be unav...         Rawat, Garima   \n",
       "626  Hi Chad, I would love to attend this week�s BI...           Walsh, Sara   \n",
       "627  MBX, Global Service Desk �\\r\\n\\r\\n \\r\\n\\r\\nPle...        Uyeda, Pauline   \n",
       "628  Hi Pauline,\\r\\n\\r\\n \\r\\n\\r\\nWe are working on ...  Parihi, Aswini Kumar   \n",
       "\n",
       "                                                    To  \\\n",
       "0    Londeree, Michelle;Iman, Chad;Konduru, Rakesh;...   \n",
       "1                                           Iman, Chad   \n",
       "2                        Iman, Chad;Londeree, Michelle   \n",
       "3                                   Kleinhans, Barbara   \n",
       "4                           Stogner, Stacey;Iman, Chad   \n",
       "..                                                 ...   \n",
       "624                              DL: Hyperion Planning   \n",
       "625                              DL: Hyperion Planning   \n",
       "626                      Raubitschek, Micki;Iman, Chad   \n",
       "627                MBX, Global Service Desk;Iman, Chad   \n",
       "628  Uyeda, Pauline;MBX, Global Service Desk;Iman, ...   \n",
       "\n",
       "                                                    CC Importance Reply  \n",
       "0                                                  NaN        NaN     N  \n",
       "1                                                  NaN     Normal     Y  \n",
       "2                                                  NaN     Normal     N  \n",
       "3                                           Iman, Chad     Normal     N  \n",
       "4                                                  NaN     Normal     N  \n",
       "..                                                 ...        ...   ...  \n",
       "624                          DL: Levi Hyperion Support     Normal     N  \n",
       "625                          DL: Levi Hyperion Support     Normal     N  \n",
       "626                                                NaN     Normal     Y  \n",
       "627  Londeree, Michelle;Distlistu, E2E_SAS_Applicat...     Normal     N  \n",
       "628  Londeree, Michelle;Distlistu, E2E_SAS_Applicat...     Normal     N  \n",
       "\n",
       "[629 rows x 7 columns]"
      ]
     },
     "execution_count": 7,
     "metadata": {},
     "output_type": "execute_result"
    }
   ],
   "source": [
    "df"
   ]
  },
  {
   "cell_type": "code",
   "execution_count": 8,
   "metadata": {
    "collapsed": false
   },
   "outputs": [],
   "source": [
    "df['Name_To_Exclusive'] = np.where((df['To'].str.contains(\"Iman\")) & (df['To'].str.len()<11), 'Yes', 'No')\n",
    "#Add column and enter 1 where only my name is in the recipient field"
   ]
  },
  {
   "cell_type": "code",
   "execution_count": 9,
   "metadata": {
    "collapsed": true
   },
   "outputs": [],
   "source": [
    "df['Name_In_CC'] = np.where(df['CC'].str.contains(\"Iman\"), 'Yes', 'No')\n",
    "#Add column and enter 1 where my name is in the CC list"
   ]
  },
  {
   "cell_type": "code",
   "execution_count": 10,
   "metadata": {
    "collapsed": false
   },
   "outputs": [],
   "source": [
    "df['Name_In_Body'] = np.where(df['Body'].str.contains(\"Chad\"), 'Yes', 'No')\n",
    "#Add column and enter 1 where my first name is in the body of the email"
   ]
  },
  {
   "cell_type": "code",
   "execution_count": 11,
   "metadata": {
    "collapsed": false
   },
   "outputs": [],
   "source": [
    "df['Body_Length'] = df['Body'].str.lower().str.split().str.len().round()\n",
    "#Add column with length of the body of the email\n",
    "#Need to incorporate code below in order to only get counts before phrase \"join skype meeting\""
   ]
  },
  {
   "cell_type": "code",
   "execution_count": 12,
   "metadata": {
    "collapsed": false
   },
   "outputs": [
    {
     "data": {
      "text/plain": [
       "'i am in meetings until 6:00 eastern time \\x96 i could possibly connect with you after that? \\r\\n\\r\\n-----original appointment-----\\r\\nfrom: iman, chad \\r\\nsent: wednesday, january 18, 2017 12:17 pm\\r\\nto: stogner, stacey\\r\\nsubject: quick reporting tb\\r\\nwhen: wednesday, january 18, 2017 1:00 pm-1:30 pm (utc-08:00) pacific time (us & canada).\\r\\nwhere: skype meeting\\r\\n\\r\\n\\r\\nhi stacey \\x96 let me know if another time works better. i\\x92m hoping we can chat today or tomorrow.\\r\\n\\r\\nthanks,\\r\\nchad\\r\\n.........................................................................................................................................\\r\\n--> '"
      ]
     },
     "execution_count": 12,
     "metadata": {},
     "output_type": "execute_result"
    }
   ],
   "source": [
    "df['Body'].str.lower().str.split('join skype meeting')[1][0]\n",
    "#Grab text before the phrase \"join skype meeting\"\n",
    "#text is capturing meeting text with Skype Meeting"
   ]
  },
  {
   "cell_type": "code",
   "execution_count": 13,
   "metadata": {
    "collapsed": false
   },
   "outputs": [],
   "source": [
    "df['CC_Bool'] = np.where(df['CC'].isnull() == False, 'Yes', 'No')"
   ]
  },
  {
   "cell_type": "code",
   "execution_count": 14,
   "metadata": {
    "collapsed": false
   },
   "outputs": [
    {
     "name": "stderr",
     "output_type": "stream",
     "text": [
      "C:\\Users\\Chad\\Anaconda2\\lib\\site-packages\\numpy\\lib\\function_base.py:3834: RuntimeWarning: Invalid value encountered in percentile\n",
      "  RuntimeWarning)\n"
     ]
    },
    {
     "data": {
      "text/plain": [
       "count     592.000000\n",
       "mean      389.809122\n",
       "std       589.741868\n",
       "min         0.000000\n",
       "25%              NaN\n",
       "50%              NaN\n",
       "75%              NaN\n",
       "max      3839.000000\n",
       "Name: Body_Length, dtype: float64"
      ]
     },
     "execution_count": 14,
     "metadata": {},
     "output_type": "execute_result"
    }
   ],
   "source": [
    "df['Body_Length'].describe()"
   ]
  },
  {
   "cell_type": "code",
   "execution_count": 15,
   "metadata": {
    "collapsed": false
   },
   "outputs": [],
   "source": [
    "df2 = df.dropna(subset =['Body_Length'])"
   ]
  },
  {
   "cell_type": "code",
   "execution_count": 16,
   "metadata": {
    "collapsed": false
   },
   "outputs": [
    {
     "data": {
      "text/plain": [
       "count     592.000000\n",
       "mean      389.809122\n",
       "std       589.741868\n",
       "min         0.000000\n",
       "25%        36.000000\n",
       "50%       165.000000\n",
       "75%       495.250000\n",
       "max      3839.000000\n",
       "Name: Body_Length, dtype: float64"
      ]
     },
     "execution_count": 16,
     "metadata": {},
     "output_type": "execute_result"
    }
   ],
   "source": [
    "df2['Body_Length'].describe()"
   ]
  },
  {
   "cell_type": "code",
   "execution_count": 17,
   "metadata": {
    "collapsed": true
   },
   "outputs": [],
   "source": [
    "#Need to fix CC name\n",
    "#Count before phrase \"join skype meeting\""
   ]
  },
  {
   "cell_type": "code",
   "execution_count": 18,
   "metadata": {
    "collapsed": false
   },
   "outputs": [
    {
     "data": {
      "text/plain": [
       "'I am in meetings until 6:00 eastern time \\x96 I could possibly connect with you after that? \\r\\n\\r\\n-----Original Appointment-----\\r\\nFrom: Iman, Chad \\r\\nSent: Wednesday, January 18, 2017 12:17 PM\\r\\nTo: Stogner, Stacey\\r\\nSubject: Quick Reporting TB\\r\\nWhen: Wednesday, January 18, 2017 1:00 PM-1:30 PM (UTC-08:00) Pacific Time (US & Canada).\\r\\nWhere: Skype Meeting\\r\\n\\r\\n\\r\\nHi Stacey \\x96 let me know if another time works better. I\\x92m hoping we can chat today or tomorrow.\\r\\n\\r\\nThanks,\\r\\nChad\\r\\n.........................................................................................................................................\\r\\n--> Join Skype Meeting <https://meet.levi.com/ciman/LJQ96Z69>       \\r\\nThis is an online meeting for Skype for Business, the professional meetings and communications app formerly known as Lync.\\t\\r\\nJoin by phone\\r\\n+3226416000 x2087 : Brussels (Levi Global) \\t\\tEnglish (United States) \\r\\n+3226416510 : Brussels (Levi Global) \\t\\tEnglish (United States)  \\r\\n+442078510549 x2087 : London (Levi Global) \\t\\tEnglish (United States)  \\r\\n+390229023280 : Milan (Levi Global) \\t\\tEnglish (United States)  \\r\\n+390229023495 : Milan (Levi Global) \\t\\tEnglish (United States)  \\r\\n+441604599810 : Northampton (Levi Global) \\t\\tEnglish (United States)  \\r\\n+14155012510 : San Francisco (Levi Global) \\t\\tEnglish (United States)  \\r\\n+6567307010 : Singapore (Levi Global) \\t\\tEnglish (United States)  \\r\\n+18004418255 : US/Canada Toll Free (Levi Global) \\t\\tEnglish (United States)  \\r\\n+6327050590 : Manila (Levi Global) \\t\\tEnglish (United States)  \\r\\n+61398640590 : Melbourne (Levi Global) \\t\\tEnglish (United States)  \\r\\n+525553280510 : Naucalpan (Levi Global) \\t\\tEnglish (United States)  \\r\\n+525552828510 : Polanco (Levi Global) \\t\\tEnglish (United States)  \\r\\n+551130663710 : Sao Paulo (Levi Global) \\t\\tEnglish (United States)  \\r\\n+862122308276 : Shanghai (Levi Global) \\t\\tEnglish (United States)  \\r\\n+85224119910 : Hong Kong (Levi Global) \\t\\tEnglish (United States)  \\r\\n+33145640825 : Paris (Levi Global) \\t\\tEnglish (United States)  \\r\\nFind a local number <https://dialin.levi.com>  \\r\\n\\r\\nConference ID: 9859340\\r\\n Forgot your dial-in PIN? <https://dialin.levi.com>  |Help <http://o15.officeredir.microsoft.com/r/rlidLync15?clid=1033&p1=5&p2=2009>      \\r\\n\\r\\n[!OC([1033])!]\\r\\n.........................................................................................................................................\\r\\n\\r\\n'"
      ]
     },
     "execution_count": 18,
     "metadata": {},
     "output_type": "execute_result"
    }
   ],
   "source": [
    "df2.loc[1,'Body']"
   ]
  },
  {
   "cell_type": "code",
   "execution_count": 19,
   "metadata": {
    "collapsed": false
   },
   "outputs": [
    {
     "data": {
      "text/plain": [
       "(592, 12)"
      ]
     },
     "execution_count": 19,
     "metadata": {},
     "output_type": "execute_result"
    }
   ],
   "source": [
    "df2.shape"
   ]
  },
  {
   "cell_type": "code",
   "execution_count": 20,
   "metadata": {
    "collapsed": false
   },
   "outputs": [
    {
     "name": "stderr",
     "output_type": "stream",
     "text": [
      "C:\\Users\\Chad\\Anaconda2\\lib\\site-packages\\ipykernel\\__main__.py:2: SettingWithCopyWarning: \n",
      "A value is trying to be set on a copy of a slice from a DataFrame.\n",
      "Try using .loc[row_indexer,col_indexer] = value instead\n",
      "\n",
      "See the caveats in the documentation: http://pandas.pydata.org/pandas-docs/stable/indexing.html#indexing-view-versus-copy\n",
      "  from ipykernel import kernelapp as app\n"
     ]
    }
   ],
   "source": [
    "splits = df2['Body'].str.split('Join Skype')\n",
    "df2['Body_New'] = splits.str[0]"
   ]
  },
  {
   "cell_type": "code",
   "execution_count": 21,
   "metadata": {
    "collapsed": false
   },
   "outputs": [
    {
     "name": "stderr",
     "output_type": "stream",
     "text": [
      "C:\\Users\\Chad\\Anaconda2\\lib\\site-packages\\ipykernel\\__main__.py:1: SettingWithCopyWarning: \n",
      "A value is trying to be set on a copy of a slice from a DataFrame.\n",
      "Try using .loc[row_indexer,col_indexer] = value instead\n",
      "\n",
      "See the caveats in the documentation: http://pandas.pydata.org/pandas-docs/stable/indexing.html#indexing-view-versus-copy\n",
      "  if __name__ == '__main__':\n"
     ]
    }
   ],
   "source": [
    "df2['Body_Length'] = df2['Body_New'].str.lower().str.split().str.len().round()"
   ]
  },
  {
   "cell_type": "code",
   "execution_count": 22,
   "metadata": {
    "collapsed": false
   },
   "outputs": [
    {
     "data": {
      "text/plain": [
       "count     592.000000\n",
       "mean      384.008446\n",
       "std       590.669377\n",
       "min         0.000000\n",
       "25%        35.750000\n",
       "50%       151.500000\n",
       "75%       459.500000\n",
       "max      3839.000000\n",
       "Name: Body_Length, dtype: float64"
      ]
     },
     "execution_count": 22,
     "metadata": {},
     "output_type": "execute_result"
    }
   ],
   "source": [
    "df2['Body_Length'].describe()"
   ]
  },
  {
   "cell_type": "code",
   "execution_count": 23,
   "metadata": {
    "collapsed": false
   },
   "outputs": [
    {
     "data": {
      "text/html": [
       "<div>\n",
       "<table border=\"1\" class=\"dataframe\">\n",
       "  <thead>\n",
       "    <tr style=\"text-align: right;\">\n",
       "      <th></th>\n",
       "      <th>Subject</th>\n",
       "      <th>Body</th>\n",
       "      <th>From</th>\n",
       "      <th>To</th>\n",
       "      <th>CC</th>\n",
       "      <th>Importance</th>\n",
       "      <th>Reply</th>\n",
       "      <th>Name_To_Exclusive</th>\n",
       "      <th>Name_In_CC</th>\n",
       "      <th>Name_In_Body</th>\n",
       "      <th>Body_Length</th>\n",
       "      <th>CC_Bool</th>\n",
       "      <th>Body_New</th>\n",
       "    </tr>\n",
       "  </thead>\n",
       "  <tbody>\n",
       "    <tr>\n",
       "      <th>0</th>\n",
       "      <td>,Singh</td>\n",
       "      <td>Rajiv Ranjan\"</td>\n",
       "      <td>Trivedi, Lokesh</td>\n",
       "      <td>Londeree, Michelle;Iman, Chad;Konduru, Rakesh;...</td>\n",
       "      <td>NaN</td>\n",
       "      <td>NaN</td>\n",
       "      <td>N</td>\n",
       "      <td>No</td>\n",
       "      <td>Yes</td>\n",
       "      <td>No</td>\n",
       "      <td>2</td>\n",
       "      <td>No</td>\n",
       "      <td>Rajiv Ranjan\"</td>\n",
       "    </tr>\n",
       "    <tr>\n",
       "      <th>1</th>\n",
       "      <td>RE: Quick Reporting TB</td>\n",
       "      <td>I am in meetings until 6:00 eastern time � I c...</td>\n",
       "      <td>Stogner, Stacey</td>\n",
       "      <td>Iman, Chad</td>\n",
       "      <td>NaN</td>\n",
       "      <td>Normal</td>\n",
       "      <td>Y</td>\n",
       "      <td>Yes</td>\n",
       "      <td>Yes</td>\n",
       "      <td>Yes</td>\n",
       "      <td>76</td>\n",
       "      <td>No</td>\n",
       "      <td>I am in meetings until 6:00 eastern time � I c...</td>\n",
       "    </tr>\n",
       "    <tr>\n",
       "      <th>2</th>\n",
       "      <td>RE: Levi's Active PCs by half.xlsx</td>\n",
       "      <td>Hi Chad,\\r\\n\\r\\nMy source is the BI report I h...</td>\n",
       "      <td>Oldham, James</td>\n",
       "      <td>Iman, Chad;Londeree, Michelle</td>\n",
       "      <td>NaN</td>\n",
       "      <td>Normal</td>\n",
       "      <td>N</td>\n",
       "      <td>No</td>\n",
       "      <td>Yes</td>\n",
       "      <td>Yes</td>\n",
       "      <td>426</td>\n",
       "      <td>No</td>\n",
       "      <td>Hi Chad,\\r\\n\\r\\nMy source is the BI report I h...</td>\n",
       "    </tr>\n",
       "    <tr>\n",
       "      <th>3</th>\n",
       "      <td>FW: Merch Cancel Report- Rebuild</td>\n",
       "      <td>Hi Barbara.\\r\\n\\r\\n \\r\\n\\r\\nI currently proces...</td>\n",
       "      <td>Lindsey, Nicole</td>\n",
       "      <td>Kleinhans, Barbara</td>\n",
       "      <td>Iman, Chad</td>\n",
       "      <td>Normal</td>\n",
       "      <td>N</td>\n",
       "      <td>No</td>\n",
       "      <td>Yes</td>\n",
       "      <td>No</td>\n",
       "      <td>231</td>\n",
       "      <td>Yes</td>\n",
       "      <td>Hi Barbara.\\r\\n\\r\\n \\r\\n\\r\\nI currently proces...</td>\n",
       "    </tr>\n",
       "    <tr>\n",
       "      <th>4</th>\n",
       "      <td>RE: Quick Reporting TB</td>\n",
       "      <td>Whenever Stacey is available, I can be availab...</td>\n",
       "      <td>Recinella, Sharmin</td>\n",
       "      <td>Stogner, Stacey;Iman, Chad</td>\n",
       "      <td>NaN</td>\n",
       "      <td>Normal</td>\n",
       "      <td>N</td>\n",
       "      <td>No</td>\n",
       "      <td>Yes</td>\n",
       "      <td>Yes</td>\n",
       "      <td>140</td>\n",
       "      <td>No</td>\n",
       "      <td>Whenever Stacey is available, I can be availab...</td>\n",
       "    </tr>\n",
       "    <tr>\n",
       "      <th>...</th>\n",
       "      <td>...</td>\n",
       "      <td>...</td>\n",
       "      <td>...</td>\n",
       "      <td>...</td>\n",
       "      <td>...</td>\n",
       "      <td>...</td>\n",
       "      <td>...</td>\n",
       "      <td>...</td>\n",
       "      <td>...</td>\n",
       "      <td>...</td>\n",
       "      <td>...</td>\n",
       "      <td>...</td>\n",
       "      <td>...</td>\n",
       "    </tr>\n",
       "    <tr>\n",
       "      <th>624</th>\n",
       "      <td>RE: LSA cubes under maintenance[Cubes accessible]</td>\n",
       "      <td>Hi All,\\r\\n\\r\\n \\r\\n\\r\\nMaintenance activity o...</td>\n",
       "      <td>Rawat, Garima</td>\n",
       "      <td>DL: Hyperion Planning</td>\n",
       "      <td>DL: Levi Hyperion Support</td>\n",
       "      <td>Normal</td>\n",
       "      <td>N</td>\n",
       "      <td>No</td>\n",
       "      <td>No</td>\n",
       "      <td>No</td>\n",
       "      <td>108</td>\n",
       "      <td>Yes</td>\n",
       "      <td>Hi All,\\r\\n\\r\\n \\r\\n\\r\\nMaintenance activity o...</td>\n",
       "    </tr>\n",
       "    <tr>\n",
       "      <th>625</th>\n",
       "      <td>LSA cubes under maintenance[Cubes Inaccessible]</td>\n",
       "      <td>Hi All,\\r\\n\\r\\n \\r\\n\\r\\nLSA cubes will be unav...</td>\n",
       "      <td>Rawat, Garima</td>\n",
       "      <td>DL: Hyperion Planning</td>\n",
       "      <td>DL: Levi Hyperion Support</td>\n",
       "      <td>Normal</td>\n",
       "      <td>N</td>\n",
       "      <td>No</td>\n",
       "      <td>No</td>\n",
       "      <td>No</td>\n",
       "      <td>45</td>\n",
       "      <td>Yes</td>\n",
       "      <td>Hi All,\\r\\n\\r\\n \\r\\n\\r\\nLSA cubes will be unav...</td>\n",
       "    </tr>\n",
       "    <tr>\n",
       "      <th>626</th>\n",
       "      <td>RE: LSA BI Super User Meeting</td>\n",
       "      <td>Hi Chad, I would love to attend this week�s BI...</td>\n",
       "      <td>Walsh, Sara</td>\n",
       "      <td>Raubitschek, Micki;Iman, Chad</td>\n",
       "      <td>NaN</td>\n",
       "      <td>Normal</td>\n",
       "      <td>Y</td>\n",
       "      <td>No</td>\n",
       "      <td>Yes</td>\n",
       "      <td>Yes</td>\n",
       "      <td>181</td>\n",
       "      <td>No</td>\n",
       "      <td>Hi Chad, I would love to attend this week�s BI...</td>\n",
       "    </tr>\n",
       "    <tr>\n",
       "      <th>627</th>\n",
       "      <td>Current PDU Extract Request</td>\n",
       "      <td>MBX, Global Service Desk �\\r\\n\\r\\n \\r\\n\\r\\nPle...</td>\n",
       "      <td>Uyeda, Pauline</td>\n",
       "      <td>MBX, Global Service Desk;Iman, Chad</td>\n",
       "      <td>Londeree, Michelle;Distlistu, E2E_SAS_Applicat...</td>\n",
       "      <td>Normal</td>\n",
       "      <td>N</td>\n",
       "      <td>No</td>\n",
       "      <td>No</td>\n",
       "      <td>No</td>\n",
       "      <td>31</td>\n",
       "      <td>Yes</td>\n",
       "      <td>MBX, Global Service Desk �\\r\\n\\r\\n \\r\\n\\r\\nPle...</td>\n",
       "    </tr>\n",
       "    <tr>\n",
       "      <th>628</th>\n",
       "      <td>RE: Current PDU Extract Request</td>\n",
       "      <td>Hi Pauline,\\r\\n\\r\\n \\r\\n\\r\\nWe are working on ...</td>\n",
       "      <td>Parihi, Aswini Kumar</td>\n",
       "      <td>Uyeda, Pauline;MBX, Global Service Desk;Iman, ...</td>\n",
       "      <td>Londeree, Michelle;Distlistu, E2E_SAS_Applicat...</td>\n",
       "      <td>Normal</td>\n",
       "      <td>N</td>\n",
       "      <td>No</td>\n",
       "      <td>No</td>\n",
       "      <td>Yes</td>\n",
       "      <td>86</td>\n",
       "      <td>Yes</td>\n",
       "      <td>Hi Pauline,\\r\\n\\r\\n \\r\\n\\r\\nWe are working on ...</td>\n",
       "    </tr>\n",
       "  </tbody>\n",
       "</table>\n",
       "<p>592 rows × 13 columns</p>\n",
       "</div>"
      ],
      "text/plain": [
       "                                               Subject  \\\n",
       "0                                               ,Singh   \n",
       "1                               RE: Quick Reporting TB   \n",
       "2                   RE: Levi's Active PCs by half.xlsx   \n",
       "3                     FW: Merch Cancel Report- Rebuild   \n",
       "4                               RE: Quick Reporting TB   \n",
       "..                                                 ...   \n",
       "624  RE: LSA cubes under maintenance[Cubes accessible]   \n",
       "625    LSA cubes under maintenance[Cubes Inaccessible]   \n",
       "626                      RE: LSA BI Super User Meeting   \n",
       "627                        Current PDU Extract Request   \n",
       "628                    RE: Current PDU Extract Request   \n",
       "\n",
       "                                                  Body                  From  \\\n",
       "0                                        Rajiv Ranjan\"       Trivedi, Lokesh   \n",
       "1    I am in meetings until 6:00 eastern time � I c...       Stogner, Stacey   \n",
       "2    Hi Chad,\\r\\n\\r\\nMy source is the BI report I h...         Oldham, James   \n",
       "3    Hi Barbara.\\r\\n\\r\\n \\r\\n\\r\\nI currently proces...       Lindsey, Nicole   \n",
       "4    Whenever Stacey is available, I can be availab...    Recinella, Sharmin   \n",
       "..                                                 ...                   ...   \n",
       "624  Hi All,\\r\\n\\r\\n \\r\\n\\r\\nMaintenance activity o...         Rawat, Garima   \n",
       "625  Hi All,\\r\\n\\r\\n \\r\\n\\r\\nLSA cubes will be unav...         Rawat, Garima   \n",
       "626  Hi Chad, I would love to attend this week�s BI...           Walsh, Sara   \n",
       "627  MBX, Global Service Desk �\\r\\n\\r\\n \\r\\n\\r\\nPle...        Uyeda, Pauline   \n",
       "628  Hi Pauline,\\r\\n\\r\\n \\r\\n\\r\\nWe are working on ...  Parihi, Aswini Kumar   \n",
       "\n",
       "                                                    To  \\\n",
       "0    Londeree, Michelle;Iman, Chad;Konduru, Rakesh;...   \n",
       "1                                           Iman, Chad   \n",
       "2                        Iman, Chad;Londeree, Michelle   \n",
       "3                                   Kleinhans, Barbara   \n",
       "4                           Stogner, Stacey;Iman, Chad   \n",
       "..                                                 ...   \n",
       "624                              DL: Hyperion Planning   \n",
       "625                              DL: Hyperion Planning   \n",
       "626                      Raubitschek, Micki;Iman, Chad   \n",
       "627                MBX, Global Service Desk;Iman, Chad   \n",
       "628  Uyeda, Pauline;MBX, Global Service Desk;Iman, ...   \n",
       "\n",
       "                                                    CC Importance Reply  \\\n",
       "0                                                  NaN        NaN     N   \n",
       "1                                                  NaN     Normal     Y   \n",
       "2                                                  NaN     Normal     N   \n",
       "3                                           Iman, Chad     Normal     N   \n",
       "4                                                  NaN     Normal     N   \n",
       "..                                                 ...        ...   ...   \n",
       "624                          DL: Levi Hyperion Support     Normal     N   \n",
       "625                          DL: Levi Hyperion Support     Normal     N   \n",
       "626                                                NaN     Normal     Y   \n",
       "627  Londeree, Michelle;Distlistu, E2E_SAS_Applicat...     Normal     N   \n",
       "628  Londeree, Michelle;Distlistu, E2E_SAS_Applicat...     Normal     N   \n",
       "\n",
       "    Name_To_Exclusive Name_In_CC Name_In_Body  Body_Length CC_Bool  \\\n",
       "0                  No        Yes           No            2      No   \n",
       "1                 Yes        Yes          Yes           76      No   \n",
       "2                  No        Yes          Yes          426      No   \n",
       "3                  No        Yes           No          231     Yes   \n",
       "4                  No        Yes          Yes          140      No   \n",
       "..                ...        ...          ...          ...     ...   \n",
       "624                No         No           No          108     Yes   \n",
       "625                No         No           No           45     Yes   \n",
       "626                No        Yes          Yes          181      No   \n",
       "627                No         No           No           31     Yes   \n",
       "628                No         No          Yes           86     Yes   \n",
       "\n",
       "                                              Body_New  \n",
       "0                                        Rajiv Ranjan\"  \n",
       "1    I am in meetings until 6:00 eastern time � I c...  \n",
       "2    Hi Chad,\\r\\n\\r\\nMy source is the BI report I h...  \n",
       "3    Hi Barbara.\\r\\n\\r\\n \\r\\n\\r\\nI currently proces...  \n",
       "4    Whenever Stacey is available, I can be availab...  \n",
       "..                                                 ...  \n",
       "624  Hi All,\\r\\n\\r\\n \\r\\n\\r\\nMaintenance activity o...  \n",
       "625  Hi All,\\r\\n\\r\\n \\r\\n\\r\\nLSA cubes will be unav...  \n",
       "626  Hi Chad, I would love to attend this week�s BI...  \n",
       "627  MBX, Global Service Desk �\\r\\n\\r\\n \\r\\n\\r\\nPle...  \n",
       "628  Hi Pauline,\\r\\n\\r\\n \\r\\n\\r\\nWe are working on ...  \n",
       "\n",
       "[592 rows x 13 columns]"
      ]
     },
     "execution_count": 23,
     "metadata": {},
     "output_type": "execute_result"
    }
   ],
   "source": [
    "df2"
   ]
  },
  {
   "cell_type": "code",
   "execution_count": 24,
   "metadata": {
    "collapsed": false
   },
   "outputs": [],
   "source": [
    "df2 = df2.replace('Yes',1)\n",
    "df2 = df2.replace('Y',1)\n",
    "df2 = df2.replace('No',0)\n",
    "df2 = df2.replace('N',0)"
   ]
  },
  {
   "cell_type": "code",
   "execution_count": 25,
   "metadata": {
    "collapsed": false
   },
   "outputs": [
    {
     "data": {
      "text/html": [
       "<div>\n",
       "<table border=\"1\" class=\"dataframe\">\n",
       "  <thead>\n",
       "    <tr style=\"text-align: right;\">\n",
       "      <th></th>\n",
       "      <th>Subject</th>\n",
       "      <th>Body</th>\n",
       "      <th>From</th>\n",
       "      <th>To</th>\n",
       "      <th>CC</th>\n",
       "      <th>Importance</th>\n",
       "      <th>Reply</th>\n",
       "      <th>Name_To_Exclusive</th>\n",
       "      <th>Name_In_CC</th>\n",
       "      <th>Name_In_Body</th>\n",
       "      <th>Body_Length</th>\n",
       "      <th>CC_Bool</th>\n",
       "      <th>Body_New</th>\n",
       "    </tr>\n",
       "  </thead>\n",
       "  <tbody>\n",
       "    <tr>\n",
       "      <th>0</th>\n",
       "      <td>,Singh</td>\n",
       "      <td>Rajiv Ranjan\"</td>\n",
       "      <td>Trivedi, Lokesh</td>\n",
       "      <td>Londeree, Michelle;Iman, Chad;Konduru, Rakesh;...</td>\n",
       "      <td>NaN</td>\n",
       "      <td>NaN</td>\n",
       "      <td>0</td>\n",
       "      <td>0</td>\n",
       "      <td>1</td>\n",
       "      <td>0</td>\n",
       "      <td>2</td>\n",
       "      <td>0</td>\n",
       "      <td>Rajiv Ranjan\"</td>\n",
       "    </tr>\n",
       "    <tr>\n",
       "      <th>1</th>\n",
       "      <td>RE: Quick Reporting TB</td>\n",
       "      <td>I am in meetings until 6:00 eastern time � I c...</td>\n",
       "      <td>Stogner, Stacey</td>\n",
       "      <td>Iman, Chad</td>\n",
       "      <td>NaN</td>\n",
       "      <td>Normal</td>\n",
       "      <td>1</td>\n",
       "      <td>1</td>\n",
       "      <td>1</td>\n",
       "      <td>1</td>\n",
       "      <td>76</td>\n",
       "      <td>0</td>\n",
       "      <td>I am in meetings until 6:00 eastern time � I c...</td>\n",
       "    </tr>\n",
       "    <tr>\n",
       "      <th>2</th>\n",
       "      <td>RE: Levi's Active PCs by half.xlsx</td>\n",
       "      <td>Hi Chad,\\r\\n\\r\\nMy source is the BI report I h...</td>\n",
       "      <td>Oldham, James</td>\n",
       "      <td>Iman, Chad;Londeree, Michelle</td>\n",
       "      <td>NaN</td>\n",
       "      <td>Normal</td>\n",
       "      <td>0</td>\n",
       "      <td>0</td>\n",
       "      <td>1</td>\n",
       "      <td>1</td>\n",
       "      <td>426</td>\n",
       "      <td>0</td>\n",
       "      <td>Hi Chad,\\r\\n\\r\\nMy source is the BI report I h...</td>\n",
       "    </tr>\n",
       "    <tr>\n",
       "      <th>3</th>\n",
       "      <td>FW: Merch Cancel Report- Rebuild</td>\n",
       "      <td>Hi Barbara.\\r\\n\\r\\n \\r\\n\\r\\nI currently proces...</td>\n",
       "      <td>Lindsey, Nicole</td>\n",
       "      <td>Kleinhans, Barbara</td>\n",
       "      <td>Iman, Chad</td>\n",
       "      <td>Normal</td>\n",
       "      <td>0</td>\n",
       "      <td>0</td>\n",
       "      <td>1</td>\n",
       "      <td>0</td>\n",
       "      <td>231</td>\n",
       "      <td>1</td>\n",
       "      <td>Hi Barbara.\\r\\n\\r\\n \\r\\n\\r\\nI currently proces...</td>\n",
       "    </tr>\n",
       "    <tr>\n",
       "      <th>4</th>\n",
       "      <td>RE: Quick Reporting TB</td>\n",
       "      <td>Whenever Stacey is available, I can be availab...</td>\n",
       "      <td>Recinella, Sharmin</td>\n",
       "      <td>Stogner, Stacey;Iman, Chad</td>\n",
       "      <td>NaN</td>\n",
       "      <td>Normal</td>\n",
       "      <td>0</td>\n",
       "      <td>0</td>\n",
       "      <td>1</td>\n",
       "      <td>1</td>\n",
       "      <td>140</td>\n",
       "      <td>0</td>\n",
       "      <td>Whenever Stacey is available, I can be availab...</td>\n",
       "    </tr>\n",
       "    <tr>\n",
       "      <th>...</th>\n",
       "      <td>...</td>\n",
       "      <td>...</td>\n",
       "      <td>...</td>\n",
       "      <td>...</td>\n",
       "      <td>...</td>\n",
       "      <td>...</td>\n",
       "      <td>...</td>\n",
       "      <td>...</td>\n",
       "      <td>...</td>\n",
       "      <td>...</td>\n",
       "      <td>...</td>\n",
       "      <td>...</td>\n",
       "      <td>...</td>\n",
       "    </tr>\n",
       "    <tr>\n",
       "      <th>624</th>\n",
       "      <td>RE: LSA cubes under maintenance[Cubes accessible]</td>\n",
       "      <td>Hi All,\\r\\n\\r\\n \\r\\n\\r\\nMaintenance activity o...</td>\n",
       "      <td>Rawat, Garima</td>\n",
       "      <td>DL: Hyperion Planning</td>\n",
       "      <td>DL: Levi Hyperion Support</td>\n",
       "      <td>Normal</td>\n",
       "      <td>0</td>\n",
       "      <td>0</td>\n",
       "      <td>0</td>\n",
       "      <td>0</td>\n",
       "      <td>108</td>\n",
       "      <td>1</td>\n",
       "      <td>Hi All,\\r\\n\\r\\n \\r\\n\\r\\nMaintenance activity o...</td>\n",
       "    </tr>\n",
       "    <tr>\n",
       "      <th>625</th>\n",
       "      <td>LSA cubes under maintenance[Cubes Inaccessible]</td>\n",
       "      <td>Hi All,\\r\\n\\r\\n \\r\\n\\r\\nLSA cubes will be unav...</td>\n",
       "      <td>Rawat, Garima</td>\n",
       "      <td>DL: Hyperion Planning</td>\n",
       "      <td>DL: Levi Hyperion Support</td>\n",
       "      <td>Normal</td>\n",
       "      <td>0</td>\n",
       "      <td>0</td>\n",
       "      <td>0</td>\n",
       "      <td>0</td>\n",
       "      <td>45</td>\n",
       "      <td>1</td>\n",
       "      <td>Hi All,\\r\\n\\r\\n \\r\\n\\r\\nLSA cubes will be unav...</td>\n",
       "    </tr>\n",
       "    <tr>\n",
       "      <th>626</th>\n",
       "      <td>RE: LSA BI Super User Meeting</td>\n",
       "      <td>Hi Chad, I would love to attend this week�s BI...</td>\n",
       "      <td>Walsh, Sara</td>\n",
       "      <td>Raubitschek, Micki;Iman, Chad</td>\n",
       "      <td>NaN</td>\n",
       "      <td>Normal</td>\n",
       "      <td>1</td>\n",
       "      <td>0</td>\n",
       "      <td>1</td>\n",
       "      <td>1</td>\n",
       "      <td>181</td>\n",
       "      <td>0</td>\n",
       "      <td>Hi Chad, I would love to attend this week�s BI...</td>\n",
       "    </tr>\n",
       "    <tr>\n",
       "      <th>627</th>\n",
       "      <td>Current PDU Extract Request</td>\n",
       "      <td>MBX, Global Service Desk �\\r\\n\\r\\n \\r\\n\\r\\nPle...</td>\n",
       "      <td>Uyeda, Pauline</td>\n",
       "      <td>MBX, Global Service Desk;Iman, Chad</td>\n",
       "      <td>Londeree, Michelle;Distlistu, E2E_SAS_Applicat...</td>\n",
       "      <td>Normal</td>\n",
       "      <td>0</td>\n",
       "      <td>0</td>\n",
       "      <td>0</td>\n",
       "      <td>0</td>\n",
       "      <td>31</td>\n",
       "      <td>1</td>\n",
       "      <td>MBX, Global Service Desk �\\r\\n\\r\\n \\r\\n\\r\\nPle...</td>\n",
       "    </tr>\n",
       "    <tr>\n",
       "      <th>628</th>\n",
       "      <td>RE: Current PDU Extract Request</td>\n",
       "      <td>Hi Pauline,\\r\\n\\r\\n \\r\\n\\r\\nWe are working on ...</td>\n",
       "      <td>Parihi, Aswini Kumar</td>\n",
       "      <td>Uyeda, Pauline;MBX, Global Service Desk;Iman, ...</td>\n",
       "      <td>Londeree, Michelle;Distlistu, E2E_SAS_Applicat...</td>\n",
       "      <td>Normal</td>\n",
       "      <td>0</td>\n",
       "      <td>0</td>\n",
       "      <td>0</td>\n",
       "      <td>1</td>\n",
       "      <td>86</td>\n",
       "      <td>1</td>\n",
       "      <td>Hi Pauline,\\r\\n\\r\\n \\r\\n\\r\\nWe are working on ...</td>\n",
       "    </tr>\n",
       "  </tbody>\n",
       "</table>\n",
       "<p>592 rows × 13 columns</p>\n",
       "</div>"
      ],
      "text/plain": [
       "                                               Subject  \\\n",
       "0                                               ,Singh   \n",
       "1                               RE: Quick Reporting TB   \n",
       "2                   RE: Levi's Active PCs by half.xlsx   \n",
       "3                     FW: Merch Cancel Report- Rebuild   \n",
       "4                               RE: Quick Reporting TB   \n",
       "..                                                 ...   \n",
       "624  RE: LSA cubes under maintenance[Cubes accessible]   \n",
       "625    LSA cubes under maintenance[Cubes Inaccessible]   \n",
       "626                      RE: LSA BI Super User Meeting   \n",
       "627                        Current PDU Extract Request   \n",
       "628                    RE: Current PDU Extract Request   \n",
       "\n",
       "                                                  Body                  From  \\\n",
       "0                                        Rajiv Ranjan\"       Trivedi, Lokesh   \n",
       "1    I am in meetings until 6:00 eastern time � I c...       Stogner, Stacey   \n",
       "2    Hi Chad,\\r\\n\\r\\nMy source is the BI report I h...         Oldham, James   \n",
       "3    Hi Barbara.\\r\\n\\r\\n \\r\\n\\r\\nI currently proces...       Lindsey, Nicole   \n",
       "4    Whenever Stacey is available, I can be availab...    Recinella, Sharmin   \n",
       "..                                                 ...                   ...   \n",
       "624  Hi All,\\r\\n\\r\\n \\r\\n\\r\\nMaintenance activity o...         Rawat, Garima   \n",
       "625  Hi All,\\r\\n\\r\\n \\r\\n\\r\\nLSA cubes will be unav...         Rawat, Garima   \n",
       "626  Hi Chad, I would love to attend this week�s BI...           Walsh, Sara   \n",
       "627  MBX, Global Service Desk �\\r\\n\\r\\n \\r\\n\\r\\nPle...        Uyeda, Pauline   \n",
       "628  Hi Pauline,\\r\\n\\r\\n \\r\\n\\r\\nWe are working on ...  Parihi, Aswini Kumar   \n",
       "\n",
       "                                                    To  \\\n",
       "0    Londeree, Michelle;Iman, Chad;Konduru, Rakesh;...   \n",
       "1                                           Iman, Chad   \n",
       "2                        Iman, Chad;Londeree, Michelle   \n",
       "3                                   Kleinhans, Barbara   \n",
       "4                           Stogner, Stacey;Iman, Chad   \n",
       "..                                                 ...   \n",
       "624                              DL: Hyperion Planning   \n",
       "625                              DL: Hyperion Planning   \n",
       "626                      Raubitschek, Micki;Iman, Chad   \n",
       "627                MBX, Global Service Desk;Iman, Chad   \n",
       "628  Uyeda, Pauline;MBX, Global Service Desk;Iman, ...   \n",
       "\n",
       "                                                    CC Importance  Reply  \\\n",
       "0                                                  NaN        NaN      0   \n",
       "1                                                  NaN     Normal      1   \n",
       "2                                                  NaN     Normal      0   \n",
       "3                                           Iman, Chad     Normal      0   \n",
       "4                                                  NaN     Normal      0   \n",
       "..                                                 ...        ...    ...   \n",
       "624                          DL: Levi Hyperion Support     Normal      0   \n",
       "625                          DL: Levi Hyperion Support     Normal      0   \n",
       "626                                                NaN     Normal      1   \n",
       "627  Londeree, Michelle;Distlistu, E2E_SAS_Applicat...     Normal      0   \n",
       "628  Londeree, Michelle;Distlistu, E2E_SAS_Applicat...     Normal      0   \n",
       "\n",
       "     Name_To_Exclusive  Name_In_CC  Name_In_Body  Body_Length  CC_Bool  \\\n",
       "0                    0           1             0            2        0   \n",
       "1                    1           1             1           76        0   \n",
       "2                    0           1             1          426        0   \n",
       "3                    0           1             0          231        1   \n",
       "4                    0           1             1          140        0   \n",
       "..                 ...         ...           ...          ...      ...   \n",
       "624                  0           0             0          108        1   \n",
       "625                  0           0             0           45        1   \n",
       "626                  0           1             1          181        0   \n",
       "627                  0           0             0           31        1   \n",
       "628                  0           0             1           86        1   \n",
       "\n",
       "                                              Body_New  \n",
       "0                                        Rajiv Ranjan\"  \n",
       "1    I am in meetings until 6:00 eastern time � I c...  \n",
       "2    Hi Chad,\\r\\n\\r\\nMy source is the BI report I h...  \n",
       "3    Hi Barbara.\\r\\n\\r\\n \\r\\n\\r\\nI currently proces...  \n",
       "4    Whenever Stacey is available, I can be availab...  \n",
       "..                                                 ...  \n",
       "624  Hi All,\\r\\n\\r\\n \\r\\n\\r\\nMaintenance activity o...  \n",
       "625  Hi All,\\r\\n\\r\\n \\r\\n\\r\\nLSA cubes will be unav...  \n",
       "626  Hi Chad, I would love to attend this week�s BI...  \n",
       "627  MBX, Global Service Desk �\\r\\n\\r\\n \\r\\n\\r\\nPle...  \n",
       "628  Hi Pauline,\\r\\n\\r\\n \\r\\n\\r\\nWe are working on ...  \n",
       "\n",
       "[592 rows x 13 columns]"
      ]
     },
     "execution_count": 25,
     "metadata": {},
     "output_type": "execute_result"
    }
   ],
   "source": [
    "df2"
   ]
  },
  {
   "cell_type": "code",
   "execution_count": 26,
   "metadata": {
    "collapsed": false
   },
   "outputs": [],
   "source": [
    "corr = df2.corr()"
   ]
  },
  {
   "cell_type": "code",
   "execution_count": 27,
   "metadata": {
    "collapsed": false
   },
   "outputs": [
    {
     "data": {
      "text/plain": [
       "0    529\n",
       "1     63\n",
       "Name: Reply, dtype: int64"
      ]
     },
     "execution_count": 27,
     "metadata": {},
     "output_type": "execute_result"
    }
   ],
   "source": [
    "df2.Reply.value_counts()"
   ]
  },
  {
   "cell_type": "code",
   "execution_count": 28,
   "metadata": {
    "collapsed": false
   },
   "outputs": [
    {
     "data": {
      "text/plain": [
       "[<matplotlib.text.Text at 0xc0dbcf8>,\n",
       " <matplotlib.text.Text at 0xcd92cf8>,\n",
       " <matplotlib.text.Text at 0xc750080>,\n",
       " <matplotlib.text.Text at 0xc750588>,\n",
       " <matplotlib.text.Text at 0xc750c18>,\n",
       " <matplotlib.text.Text at 0xc75a2e8>,\n",
       " <matplotlib.text.Text at 0xc75a978>]"
      ]
     },
     "execution_count": 28,
     "metadata": {},
     "output_type": "execute_result"
    },
    {
     "data": {
      "image/png": "[encoded data removed]",
      "text/plain": [
       "<matplotlib.figure.Figure at 0xc6fc278>"
      ]
     },
     "metadata": {},
     "output_type": "display_data"
    }
   ],
   "source": [
    "figure = plt.figure()\n",
    "subplot = figure.add_subplot(1, 1, 1)\n",
    "figure.colorbar(subplot.matshow(corr))\n",
    "subplot.set_xticklabels([None] + list(corr.columns), rotation = 90)\n",
    "subplot.set_yticklabels([None] + list(corr.columns))"
   ]
  },
  {
   "cell_type": "code",
   "execution_count": 29,
   "metadata": {
    "collapsed": false
   },
   "outputs": [
    {
     "data": {
      "text/plain": [
       "Subject           0\n",
       "Body              0\n",
       "From              0\n",
       "To              104\n",
       "CC              334\n",
       "               ... \n",
       "Name_In_CC        0\n",
       "Name_In_Body      0\n",
       "Body_Length       0\n",
       "CC_Bool           0\n",
       "Body_New          0\n",
       "dtype: int64"
      ]
     },
     "execution_count": 29,
     "metadata": {},
     "output_type": "execute_result"
    }
   ],
   "source": [
    "df2.isnull().sum()"
   ]
  },
  {
   "cell_type": "code",
   "execution_count": 30,
   "metadata": {
    "collapsed": false
   },
   "outputs": [
    {
     "data": {
      "text/plain": [
       "440L"
      ]
     },
     "execution_count": 30,
     "metadata": {},
     "output_type": "execute_result"
    }
   ],
   "source": [
    "df2.isnull().sum().sum()"
   ]
  },
  {
   "cell_type": "code",
   "execution_count": 31,
   "metadata": {
    "collapsed": false
   },
   "outputs": [
    {
     "data": {
      "text/html": [
       "<div>\n",
       "<table border=\"1\" class=\"dataframe\">\n",
       "  <thead>\n",
       "    <tr style=\"text-align: right;\">\n",
       "      <th>Name_To_Exclusive</th>\n",
       "      <th>0</th>\n",
       "      <th>1</th>\n",
       "    </tr>\n",
       "    <tr>\n",
       "      <th>Reply</th>\n",
       "      <th></th>\n",
       "      <th></th>\n",
       "    </tr>\n",
       "  </thead>\n",
       "  <tbody>\n",
       "    <tr>\n",
       "      <th>0</th>\n",
       "      <td>421</td>\n",
       "      <td>108</td>\n",
       "    </tr>\n",
       "    <tr>\n",
       "      <th>1</th>\n",
       "      <td>15</td>\n",
       "      <td>48</td>\n",
       "    </tr>\n",
       "  </tbody>\n",
       "</table>\n",
       "</div>"
      ],
      "text/plain": [
       "Name_To_Exclusive    0    1\n",
       "Reply                      \n",
       "0                  421  108\n",
       "1                   15   48"
      ]
     },
     "execution_count": 31,
     "metadata": {},
     "output_type": "execute_result"
    }
   ],
   "source": [
    "pd.crosstab(df2.Reply, df2.Name_To_Exclusive, dropna = False)"
   ]
  },
  {
   "cell_type": "code",
   "execution_count": null,
   "metadata": {
    "collapsed": true
   },
   "outputs": [],
   "source": []
  }
 ],
 "metadata": {
  "anaconda-cloud": {},
  "kernelspec": {
   "display_name": "Python [conda root]",
   "language": "python",
   "name": "conda-root-py"
  },
  "language_info": {
   "codemirror_mode": {
    "name": "ipython",
    "version": 2
   },
   "file_extension": ".py",
   "mimetype": "text/x-python",
   "name": "python",
   "nbconvert_exporter": "python",
   "pygments_lexer": "ipython2",
   "version": "2.7.12"
  }
 },
 "nbformat": 4,
 "nbformat_minor": 1
}
